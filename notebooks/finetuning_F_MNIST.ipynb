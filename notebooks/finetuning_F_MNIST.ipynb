{
 "cells": [
  {
   "cell_type": "markdown",
   "metadata": {},
   "source": [
    "# Finetuning on Fashion MNIST\n",
    "The objective is to finetune a basic MLP (Multi-Layer Perceptron) from a pretrained version to see if later the attacker could capture photos from finetuning.\n",
    "\n",
    "First, all the libraries will be imported:"
   ]
  },
  {
   "cell_type": "code",
   "execution_count": 1,
   "metadata": {},
   "outputs": [],
   "source": [
    "import os\n",
    "import sys\n",
    "from tqdm import tqdm\n",
    "from IPython.display import clear_output\n",
    "\n",
    "\n",
    "\n",
    "import torch\n",
    "from torchvision import datasets, transforms\n",
    "import torch.nn as nn\n",
    "import torch.optim as optim\n",
    "from torchvision.utils import make_grid\n",
    "from matplotlib import pyplot as plt\n",
    "from safetensors.torch import save_file, load_file\n",
    "import random\n",
    "import numpy as np\n",
    "\n",
    "\n",
    "# To add src to the path so that we can import modules\n",
    "current_directory = os.getcwd()\n",
    "parent_directory = os.path.dirname(current_directory)\n",
    "if not parent_directory.endswith(\"dataset_stealing_with_privacy_doors\"):\n",
    "    sys.path.append(os.path.join(current_directory, 'dataset_stealing_with_privacy_doors'))\n",
    "else:\n",
    "    sys.path.append(parent_directory)\n",
    "\n",
    "try:\n",
    "    from src import DATA_DIR, MODELS_DIR\n",
    "except ModuleNotFoundError:\n",
    "    print(\"Ensure that src is added to PATH and restart the kernel\")\n",
    "    print(sys.path)"
   ]
  },
  {
   "cell_type": "markdown",
   "metadata": {},
   "source": [
    "These are the parameters used for pretraining and seed init:"
   ]
  },
  {
   "cell_type": "code",
   "execution_count": 2,
   "metadata": {},
   "outputs": [],
   "source": [
    "params = {\n",
    "    'batch_size':64, #changed from 64 to 256\n",
    "    'eval_batch_size':64,\n",
    "    'hidden_size': 512,\n",
    "    'num_epochs':5,\n",
    "    'num_classes':10,\n",
    "    'learning_rate':1e-4,\n",
    "    'log_interval':300,\n",
    "}\n",
    "\n",
    "device = torch.device(\"cuda\" if torch.cuda.is_available() else \"cpu\")\n",
    "\n",
    "seed = 33\n",
    "random.seed(seed)\n",
    "np.random.seed(seed)\n",
    "torch.manual_seed(seed)\n",
    "if torch.cuda.is_available():\n",
    "    torch.cuda.manual_seed(seed)\n",
    "    torch.cuda.manual_seed_all(seed)\n",
    "torch.backends.cudnn.deterministic = True"
   ]
  },
  {
   "cell_type": "markdown",
   "metadata": {},
   "source": [
    "The FashionMNIST dataset is downloaded using the torchvision.datasets module. The dataset is then loaded into a DataLoader object, which is used to iterate over the dataset in batches. The Normalization performed is between 0-1 as the pretrained model recommends. "
   ]
  },
  {
   "cell_type": "code",
   "execution_count": null,
   "metadata": {},
   "outputs": [],
   "source": [
    "# Load MNIST dataset\n",
    "transform = transforms.Compose([transforms.ToTensor()])\n",
    "\n",
    "train_dataset = datasets.FashionMNIST(root=DATA_DIR, train=True, download=True, transform=transform)\n",
    "train_loader = torch.utils.data.DataLoader(dataset=train_dataset, batch_size=params['batch_size'], shuffle=True)\n",
    "val_dataset = datasets.FashionMNIST(root=DATA_DIR, train=False, download=True, transform=transform)\n",
    "val_loader = torch.utils.data.DataLoader(dataset=val_dataset, batch_size=params['eval_batch_size'], shuffle=False)\n",
    "print(\"Number of images in train:\",len(train_dataset))\n",
    "print(\"Number of images in validation:\",len(val_dataset))\n",
    "print(\"Splits:\", \"{:.2f}\".format(len(train_loader) / (len(val_loader)+len(train_loader))),\n",
    "      \"/\",\"{:.2f}\".format(len(val_loader) / (len(val_loader)+len(train_loader))))"
   ]
  },
  {
   "cell_type": "code",
   "execution_count": null,
   "metadata": {},
   "outputs": [],
   "source": [
    "# We can retrieve a sample from the dataset by simply indexing it\n",
    "img, label = train_dataset[0]\n",
    "print('Img shape: ', img.shape)\n",
    "print('Label: ', label)\n",
    "\n",
    "# Check if the image values are in the [0, 1] interval\n",
    "assert img.min() >= 0 and img.max() <= 1, \"Image values are not in the [0, 1] interval\""
   ]
  },
  {
   "cell_type": "code",
   "execution_count": null,
   "metadata": {},
   "outputs": [],
   "source": [
    "# Similarly, we can sample a BATCH from the dataloader by running over its iterator\n",
    "iter_ = iter(train_loader)\n",
    "bimg, blabel = next(iter_)\n",
    "print('Batch Img shape: ', bimg.shape)\n",
    "print('Batch Label shape: ', blabel.shape)\n",
    "print(f'The Batched tensors return a collection of {bimg.shape[0]} grayscale images ({bimg.shape[1]} channel, {bimg.shape[2]} height pixels, {bimg.shape[3]} width pixels)')\n",
    "print(f'In the case of the labels, we obtained {blabel.shape[0]} batched integers, one per image')\n",
    "\n",
    "# Check if the batch image values are in the [0, 1] interval\n",
    "assert bimg.min() >= 0 and bimg.max() <= 1, \"Batch image values are not in the [0, 1] interval\""
   ]
  },
  {
   "cell_type": "code",
   "execution_count": null,
   "metadata": {},
   "outputs": [],
   "source": [
    "# make_grid is a function from the torchvision package that transforms a batch\n",
    "# of images to a grid of images\n",
    "img_grid = make_grid(bimg)\n",
    "\n",
    "plt.figure(figsize = (4, 4))\n",
    "plt.imshow(img_grid.permute(1, 2, 0), interpolation='nearest')\n",
    "plt.axis('off')"
   ]
  },
  {
   "cell_type": "markdown",
   "metadata": {},
   "source": [
    "Now a MLP class is instanciated. In theory this would be given by the pretrained model weights, and this would be modified from the MLP class used to create invisible data point latches. Keeping in mind that there are 10 classes (10 clothes) and the input size is the same, only the last layer needs to be modified by the user that wants to finetune the model. "
   ]
  },
  {
   "cell_type": "code",
   "execution_count": 7,
   "metadata": {},
   "outputs": [],
   "source": [
    "# Define the MLP model\n",
    "class MLP(nn.Module):\n",
    "    def __init__(self, hidden_size, num_classes):\n",
    "        super(MLP, self).__init__()\n",
    "        self.fc1 = nn.Linear(28*28, hidden_size)\n",
    "        self.fc2 = nn.Linear(hidden_size, num_classes)\n",
    "\n",
    "    def forward(self, x):\n",
    "        x = x.view(-1, 28*28) # layer 1\n",
    "        x = torch.relu(self.fc1(x)) # layer 2\n",
    "        x = self.fc2(x) # layer 3\n",
    "        return x"
   ]
  },
  {
   "cell_type": "markdown",
   "metadata": {},
   "source": [
    "The classification is reinstanciated and model wights loaded. "
   ]
  },
  {
   "cell_type": "code",
   "execution_count": null,
   "metadata": {},
   "outputs": [],
   "source": [
    "# Initialize the model, loss function and optimizer\n",
    "model = MLP(params['hidden_size'], params['num_classes'])\n",
    "\n",
    "# Define the path to the saved model\n",
    "archive_name = \"model_pretrained.safetensors\"\n",
    "loading_path = os.path.join(MODELS_DIR, archive_name)\n",
    "\n",
    "# Load the model state dictionary\n",
    "state_dict = load_file(loading_path)\n",
    "print(state_dict.keys())\n",
    "\n",
    "# Initialize the model and load the state dictionary, remake the classifier\n",
    "model.load_state_dict(state_dict)\n",
    "model.fc3 = nn.Linear(256, params['num_classes'])\n",
    "\n",
    "print(\"Model loaded successfully from\", loading_path)\n"
   ]
  },
  {
   "cell_type": "markdown",
   "metadata": {},
   "source": [
    "In order to work, it is needed the SGD optimizer with no weight decay. "
   ]
  },
  {
   "cell_type": "code",
   "execution_count": 9,
   "metadata": {},
   "outputs": [],
   "source": [
    "criterion = nn.CrossEntropyLoss()\n",
    "optimizer = optim.SGD(model.parameters(), lr=0.001)"
   ]
  },
  {
   "cell_type": "code",
   "execution_count": 10,
   "metadata": {},
   "outputs": [],
   "source": [
    "def train (epoch_id, model, train_loader, device):\n",
    "    model.train()\n",
    "    global_epoch_loss = 0.0\n",
    "    all_preds_labels = torch.empty(0, device = 'cpu')\n",
    "    all_labels = torch.empty(0, device = 'cpu')\n",
    "    for i, (images, labels) in tqdm(enumerate(train_loader), total=len(train_loader),\n",
    "                                                    desc = f'(TRAIN)Epoch {epoch_id+1}', \n",
    "                                                    miniters=int(len(train_loader)/params['log_interval'])):\n",
    "        # Forward and backward pass\n",
    "        optimizer.zero_grad()\n",
    "        images.to(device), labels.to(device)\n",
    "        outputs = model(images)\n",
    "        predicted_label = torch.argmax(outputs, dim=1) # Get the predicted labels using argmax\n",
    "        loss = criterion(outputs, labels)\n",
    "        loss.backward()\n",
    "        optimizer.step()\n",
    "\n",
    "        # Store results\n",
    "        global_epoch_loss += loss.data.item()*images.shape[0] # Accumulate the loss\n",
    "        all_preds_labels = torch.cat((all_preds_labels, predicted_label.cpu())) \n",
    "        all_labels = torch.cat((all_labels, labels.cpu()))\n",
    "        \n",
    "        # Show the batch results every 100 batches\n",
    "        if i % params['log_interval'] == 0: # Print the metrics every 100 batches\n",
    "            predicted_label = torch.argmax(outputs, dim=1)\n",
    "            acc_batch = torch.sum(predicted_label == labels).item()/params['batch_size']*100\n",
    "            tqdm.write(f\"TRAIN [{i+1}/{len(train_loader)}], Batch accuracy: {acc_batch:.3f}%; Batch Loss: {loss.item():.3f}\")\n",
    "    \n",
    "    acc_epoch = torch.sum(all_preds_labels == all_labels).item()/len(train_loader.dataset)*100\n",
    "    return model, global_epoch_loss/len(train_loader.dataset), acc_epoch\n",
    "\n",
    "def validation (epoch_id, model,val_loader, device):\n",
    "    model.eval()\n",
    "    all_preds_labels = torch.empty(0, device = 'cpu')\n",
    "    all_labels = torch.empty(0, device = 'cpu')\n",
    "    global_epoch_loss = 0.0\n",
    "    with torch.no_grad():\n",
    "        for i, (images, labels) in tqdm(enumerate(val_loader), total=len(val_loader),\n",
    "                                                    desc = f'(VAL)Epoch {epoch_id+1}', \n",
    "                                                    miniters=int(len(val_loader)/params['log_interval'])):\n",
    "            # Forward pass\n",
    "            images.to(device), labels.to(device)\n",
    "            outputs = model(images)\n",
    "            predicted_label = torch.argmax(outputs, dim=1) # Get the predicted labels using argmax\n",
    "            loss = criterion(outputs, labels)\n",
    "            # Store results\n",
    "            all_preds_labels = torch.cat((all_preds_labels, predicted_label.cpu())) \n",
    "            all_labels = torch.cat((all_labels, labels.cpu()))\n",
    "            global_epoch_loss += loss.data.item()*images.shape[0] # Accumulate the loss\n",
    "            \n",
    "            # Show the batch results every 100 batches\n",
    "            if i % params['log_interval'] == 0: # Print the metrics every 100 batches\n",
    "                acc_batch = torch.sum(predicted_label == labels).item()/params['batch_size']*100\n",
    "                tqdm.write(f\"VAL [{i+1}/{len(train_loader)}], Batch accuracy: {acc_batch:.3f}%; Batch Loss: {loss.item():.3f}\")\n",
    "\n",
    "        acc_epoch = torch.sum(all_preds_labels == all_labels).item()/len(val_loader.dataset)*100\n",
    "    return global_epoch_loss/len(val_loader.dataset), acc_epoch"
   ]
  },
  {
   "cell_type": "code",
   "execution_count": null,
   "metadata": {},
   "outputs": [],
   "source": [
    "train_losses = []\n",
    "train_accuracies = []\n",
    "val_losses = []\n",
    "val_accuracies = []\n",
    "\n",
    "for epoch_id in range(params['num_epochs']):\n",
    "    tqdm.write(f\"EPOCH {epoch_id+1} ------------------------------------\")\n",
    "    model, train_loss, train_acc = train(epoch_id, model, train_loader, device)\n",
    "    clear_output(wait=True)\n",
    "    print(f\"Epoch {epoch_id+1} mean training loss: {train_loss:.4f}\")\n",
    "    print(f\"Epoch {epoch_id+1} total training accuracy: {train_acc:.2f}%\")\n",
    "    val_loss, val_acc = validation(epoch_id, model,val_loader, device)\n",
    "    print(f\"Epoch {epoch_id+1} mean validation loss: {val_loss:.4f}\")\n",
    "    print(f\"Epoch {epoch_id+1} total validation accuracy: {val_acc:.2f}%\")\n",
    "    \n",
    "    # Save results\n",
    "    train_losses.append(train_loss)\n",
    "    train_accuracies.append(train_acc)\n",
    "    val_losses.append(val_loss)\n",
    "    val_accuracies.append(val_acc)"
   ]
  },
  {
   "cell_type": "code",
   "execution_count": null,
   "metadata": {},
   "outputs": [],
   "source": [
    "# Graficar la evolución de la pérdida y la precisión\n",
    "plt.figure(figsize=(7, 5))\n",
    "\n",
    "plt.subplot(2, 1, 1)\n",
    "plt.plot(range(1, params['num_epochs'] + 1), train_losses, label='Training Loss')\n",
    "plt.plot(range(1, params['num_epochs'] + 1), val_losses, label='Validation Loss')\n",
    "plt.xlabel('Epochs')\n",
    "plt.ylabel('Loss')\n",
    "plt.title('Loss Evolution')\n",
    "plt.legend()\n",
    "plt.xticks(range(1, params['num_epochs'] + 1, 2))  # Mostrar solo enteros en el eje x\n",
    "\n",
    "\n",
    "plt.subplot(2, 1, 2)\n",
    "plt.plot(range(1, params['num_epochs'] + 1), train_accuracies, label='Training Accuracy')\n",
    "plt.plot(range(1, params['num_epochs'] + 1), val_accuracies, label='Validation Accuracy')\n",
    "plt.xlabel('Epochs')\n",
    "plt.ylabel('Accuracy')\n",
    "plt.title('Accuracy Evolution')\n",
    "plt.legend()\n",
    "plt.ylim(0, 100)  # Establecer los límites del eje y entre 0 y 100%\n",
    "plt.xticks(range(1, params['num_epochs'] + 1, 2))  # Mostrar solo enteros en el eje x\n",
    "\n",
    "plt.subplots_adjust(hspace=0.5)\n",
    "\n",
    "plt.show()"
   ]
  },
  {
   "cell_type": "markdown",
   "metadata": {},
   "source": [
    "Save results using safetensors"
   ]
  },
  {
   "cell_type": "code",
   "execution_count": 13,
   "metadata": {},
   "outputs": [],
   "source": [
    "archive_name = \"model_finetuned.safetensors\"\n",
    "saving_path = os.path.join (MODELS_DIR, archive_name)\n",
    "save_file(model.state_dict(), saving_path)"
   ]
  },
  {
   "cell_type": "markdown",
   "metadata": {},
   "source": [
    "Make some predictions to test results:"
   ]
  },
  {
   "cell_type": "code",
   "execution_count": null,
   "metadata": {},
   "outputs": [],
   "source": [
    "# Set the model to evaluation mode\n",
    "model.eval()\n",
    "\n",
    "# Get a batch of validation data\n",
    "val_iter = iter(val_loader)\n",
    "val_images, val_labels = next(val_iter)\n",
    "\n",
    "# Make predictions\n",
    "with torch.no_grad():\n",
    "    val_images.to(device), val_labels.to(device)\n",
    "    outputs = model(val_images)\n",
    "    val_images = val_images.cpu()\n",
    "    _, predicted = torch.max(outputs.cpu(), 1)\n",
    "\n",
    "# Create a grid of images\n",
    "val_img_grid = make_grid(val_images)\n",
    "\n",
    "# Plot the grid with predicted labels\n",
    "plt.figure(figsize=(5, 5))\n",
    "plt.imshow(val_img_grid.permute(1, 2, 0), interpolation='nearest')\n",
    "plt.axis('off')\n",
    "plt.title('Validation Batch - Predicted Labels')\n",
    "\n",
    "# Annotate the images with predicted labels\n",
    "for i in range(val_images.size(0)):\n",
    "    plt.text(i % 8 * 32 + 5, i // 8 * 32 + 5, str(predicted[i].item()), color='red', fontsize=14)\n",
    "\n",
    "plt.show()"
   ]
  },
  {
   "cell_type": "markdown",
   "metadata": {},
   "source": [
    "It can be seen how the model works as thought."
   ]
  },
  {
   "cell_type": "markdown",
   "metadata": {},
   "source": [
    "## Finetunning with corrupted model"
   ]
  },
  {
   "cell_type": "code",
   "execution_count": 20,
   "metadata": {},
   "outputs": [],
   "source": [
    "# Define the MLP model\n",
    "class MLP_advanced(nn.Module):\n",
    "    def __init__(self, hidden_size, num_classes):\n",
    "        super(MLP_advanced, self).__init__()\n",
    "        self.fc1 = nn.Linear(28*28, hidden_size)\n",
    "        self.fc2 = nn.Linear(hidden_size, num_classes)\n",
    "        self.constant = nn.Parameter(torch.ones(hidden_size))\n",
    "\n",
    "    def forward(self, x):\n",
    "        x = x.view(-1, 28*28) # layer 1\n",
    "        #print((self.fc1(x) - self.fc1.bias))\n",
    "        x = torch.relu(self.fc1(x)) # layer 2\n",
    "        x = torch.relu(x*self.constant)# Corrupted layer\n",
    "        x = self.fc2(x) # layer 3\n",
    "        return x"
   ]
  },
  {
   "cell_type": "markdown",
   "metadata": {},
   "source": [
    "Now it is loaded"
   ]
  },
  {
   "cell_type": "code",
   "execution_count": null,
   "metadata": {},
   "outputs": [],
   "source": [
    "# Initialize the model, loss function and optimizer\n",
    "model_advanced = MLP_advanced(params['hidden_size'], params['num_classes'])\n",
    "\n",
    "# Define the path to the saved model\n",
    "archive_name = \"model_pretrained_advanced.safetensors\"\n",
    "loading_path = os.path.join(MODELS_DIR, archive_name)\n",
    "\n",
    "# Load the model state dictionary\n",
    "state_dict = load_file(loading_path)\n",
    "print(state_dict.keys())\n",
    "\n",
    "# Initialize the model and load the state dictionary, remake the classifier\n",
    "model_advanced.load_state_dict(state_dict)\n",
    "model_advanced.fc3 = nn.Linear(256, params['num_classes'])\n",
    "\n",
    "print(\"Model loaded successfully from\", loading_path)"
   ]
  },
  {
   "cell_type": "markdown",
   "metadata": {},
   "source": [
    "Now we will proceed with the training:"
   ]
  },
  {
   "cell_type": "code",
   "execution_count": 22,
   "metadata": {},
   "outputs": [
    {
     "name": "stdout",
     "output_type": "stream",
     "text": [
      "Epoch 5 mean training loss: 3.3492\n",
      "Epoch 5 total training accuracy: 8.48%\n"
     ]
    },
    {
     "name": "stderr",
     "output_type": "stream",
     "text": [
      "(VAL)Epoch 5:   0%|          | 0/157 [00:00<?, ?it/s]"
     ]
    },
    {
     "name": "stdout",
     "output_type": "stream",
     "text": [
      "VAL [1/938], Batch accuracy: 12.500%; Batch Loss: 3.436\n"
     ]
    },
    {
     "name": "stderr",
     "output_type": "stream",
     "text": [
      "(VAL)Epoch 5: 100%|██████████| 157/157 [00:00<00:00, 278.80it/s]"
     ]
    },
    {
     "name": "stdout",
     "output_type": "stream",
     "text": [
      "Epoch 5 mean validation loss: 3.3390\n",
      "Epoch 5 total validation accuracy: 8.51%\n"
     ]
    },
    {
     "name": "stderr",
     "output_type": "stream",
     "text": [
      "\n"
     ]
    }
   ],
   "source": [
    "train_losses = []\n",
    "train_accuracies = []\n",
    "val_losses = []\n",
    "val_accuracies = []\n",
    "\n",
    "for epoch_id in range(params['num_epochs']):\n",
    "    tqdm.write(f\"EPOCH {epoch_id+1} ------------------------------------\")\n",
    "    model_advanced, train_loss, train_acc = train(epoch_id, model_advanced, train_loader, device)\n",
    "    clear_output(wait=True)\n",
    "    print(f\"Epoch {epoch_id+1} mean training loss: {train_loss:.4f}\")\n",
    "    print(f\"Epoch {epoch_id+1} total training accuracy: {train_acc:.2f}%\")\n",
    "    val_loss, val_acc = validation(epoch_id, model_advanced,val_loader, device)\n",
    "    print(f\"Epoch {epoch_id+1} mean validation loss: {val_loss:.4f}\")\n",
    "    print(f\"Epoch {epoch_id+1} total validation accuracy: {val_acc:.2f}%\")\n",
    "    \n",
    "    # Save results\n",
    "    train_losses.append(train_loss)\n",
    "    train_accuracies.append(train_acc)\n",
    "    val_losses.append(val_loss)\n",
    "    val_accuracies.append(val_acc)"
   ]
  },
  {
   "cell_type": "markdown",
   "metadata": {},
   "source": [
    "Finally show the results: "
   ]
  },
  {
   "cell_type": "code",
   "execution_count": 23,
   "metadata": {},
   "outputs": [
    {
     "data": {
      "image/png": "[encoded data removed]",
      "text/plain": [
       "<Figure size 700x500 with 2 Axes>"
      ]
     },
     "metadata": {},
     "output_type": "display_data"
    }
   ],
   "source": [
    "# Graficar la evolución de la pérdida y la precisión\n",
    "plt.figure(figsize=(7, 5))\n",
    "\n",
    "plt.subplot(2, 1, 1)\n",
    "plt.plot(range(1, params['num_epochs'] + 1), train_losses, label='Training Loss')\n",
    "plt.plot(range(1, params['num_epochs'] + 1), val_losses, label='Validation Loss')\n",
    "plt.xlabel('Epochs')\n",
    "plt.ylabel('Loss')\n",
    "plt.title('Loss Evolution')\n",
    "plt.legend()\n",
    "plt.xticks(range(1, params['num_epochs'] + 1, 2))  # Mostrar solo enteros en el eje x\n",
    "\n",
    "\n",
    "plt.subplot(2, 1, 2)\n",
    "plt.plot(range(1, params['num_epochs'] + 1), train_accuracies, label='Training Accuracy')\n",
    "plt.plot(range(1, params['num_epochs'] + 1), val_accuracies, label='Validation Accuracy')\n",
    "plt.xlabel('Epochs')\n",
    "plt.ylabel('Accuracy')\n",
    "plt.title('Accuracy Evolution')\n",
    "plt.legend()\n",
    "plt.ylim(0, 100)  # Establecer los límites del eje y entre 0 y 100%\n",
    "plt.xticks(range(1, params['num_epochs'] + 1, 2))  # Mostrar solo enteros en el eje x\n",
    "\n",
    "plt.subplots_adjust(hspace=0.5)\n",
    "\n",
    "plt.show()"
   ]
  }
 ],
 "metadata": {
  "kernelspec": {
   "display_name": "env",
   "language": "python",
   "name": "python3"
  },
  "language_info": {
   "codemirror_mode": {
    "name": "ipython",
    "version": 3
   },
   "file_extension": ".py",
   "mimetype": "text/x-python",
   "name": "python",
   "nbconvert_exporter": "python",
   "pygments_lexer": "ipython3",
   "version": "3.10.11"
  }
 },
 "nbformat": 4,
 "nbformat_minor": 2
}
